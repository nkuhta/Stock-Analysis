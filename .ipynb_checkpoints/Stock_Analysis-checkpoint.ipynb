{
 "cells": [
  {
   "cell_type": "code",
   "execution_count": 1,
   "metadata": {
    "collapsed": true
   },
   "outputs": [],
   "source": [
    "import pandas as pd\n",
    "import numpy as np\n",
    "import matplotlib.pyplot as plt\n",
    "import seaborn as sns\n",
    "%matplotlib inline"
   ]
  },
  {
   "cell_type": "code",
   "execution_count": 2,
   "metadata": {
    "collapsed": true
   },
   "outputs": [],
   "source": [
    "#  import stock data (csv)\n",
    "adjOpen = pd.read_csv('stocks-us-adjOpen.csv')\n",
    "adjClose = pd.read_csv('stocks-us-adjClose.csv')\n",
    "volume = pd.read_csv('stocks-us-Volume.csv')\n",
    "adjHigh = pd.read_csv('stocks-us-adjHigh.csv')\n",
    "adjLow = pd.read_csv('stocks-us-adjLow.csv')"
   ]
  },
  {
   "cell_type": "markdown",
   "metadata": {},
   "source": [
    "# use pd.melt to rearrange to dataframe rows of (date,ticker,value)"
   ]
  },
  {
   "cell_type": "code",
   "execution_count": 3,
   "metadata": {
    "collapsed": true
   },
   "outputs": [],
   "source": [
    "adjClose_melt = pd.melt(adjClose,id_vars=['compiled from Yahoo! Finance data by Matt Borthwick'],var_name='Ticker',value_name='Close')\n",
    "adjOpen_melt = pd.melt(adjOpen,id_vars=['compiled from Yahoo! Finance data by Matt Borthwick'],var_name='Ticker',value_name='Open')\n",
    "adjHigh_melt = pd.melt(adjClose,id_vars=['compiled from Yahoo! Finance data by Matt Borthwick'],var_name='Ticker',value_name='High')\n",
    "adjLow_melt = pd.melt(adjOpen,id_vars=['compiled from Yahoo! Finance data by Matt Borthwick'],var_name='Ticker',value_name='Low')\n",
    "volume_melt = pd.melt(adjClose,id_vars=['compiled from Yahoo! Finance data by Matt Borthwick'],var_name='Ticker',value_name='Volume')"
   ]
  },
  {
   "cell_type": "code",
   "execution_count": 4,
   "metadata": {
    "collapsed": true
   },
   "outputs": [],
   "source": [
    "# rename data and stock symbol column\n",
    "adjClose_melt.columns = ['Date','Symbol','Close']\n",
    "adjOpen_melt.columns = ['Date','Symbol','Open']\n",
    "adjHigh_melt.columns = ['Date','Symbol','High']\n",
    "adjLow_melt.columns = ['Date','Symbol','Low']\n",
    "volume_melt.columns = ['Date','Symbol','Volume']"
   ]
  },
  {
   "cell_type": "code",
   "execution_count": 5,
   "metadata": {},
   "outputs": [
    {
     "data": {
      "text/html": [
       "<div>\n",
       "<style>\n",
       "    .dataframe thead tr:only-child th {\n",
       "        text-align: right;\n",
       "    }\n",
       "\n",
       "    .dataframe thead th {\n",
       "        text-align: left;\n",
       "    }\n",
       "\n",
       "    .dataframe tbody tr th {\n",
       "        vertical-align: top;\n",
       "    }\n",
       "</style>\n",
       "<table border=\"1\" class=\"dataframe\">\n",
       "  <thead>\n",
       "    <tr style=\"text-align: right;\">\n",
       "      <th></th>\n",
       "      <th>Date</th>\n",
       "      <th>Symbol</th>\n",
       "      <th>Volume</th>\n",
       "    </tr>\n",
       "  </thead>\n",
       "  <tbody>\n",
       "    <tr>\n",
       "      <th>0</th>\n",
       "      <td>1970-01-02</td>\n",
       "      <td>ED</td>\n",
       "      <td>0.307997</td>\n",
       "    </tr>\n",
       "    <tr>\n",
       "      <th>1</th>\n",
       "      <td>1970-01-05</td>\n",
       "      <td>ED</td>\n",
       "      <td>0.320831</td>\n",
       "    </tr>\n",
       "    <tr>\n",
       "      <th>2</th>\n",
       "      <td>1970-01-06</td>\n",
       "      <td>ED</td>\n",
       "      <td>0.316553</td>\n",
       "    </tr>\n",
       "    <tr>\n",
       "      <th>3</th>\n",
       "      <td>1970-01-07</td>\n",
       "      <td>ED</td>\n",
       "      <td>0.312275</td>\n",
       "    </tr>\n",
       "    <tr>\n",
       "      <th>4</th>\n",
       "      <td>1970-01-08</td>\n",
       "      <td>ED</td>\n",
       "      <td>0.312275</td>\n",
       "    </tr>\n",
       "  </tbody>\n",
       "</table>\n",
       "</div>"
      ],
      "text/plain": [
       "         Date Symbol    Volume\n",
       "0  1970-01-02     ED  0.307997\n",
       "1  1970-01-05     ED  0.320831\n",
       "2  1970-01-06     ED  0.316553\n",
       "3  1970-01-07     ED  0.312275\n",
       "4  1970-01-08     ED  0.312275"
      ]
     },
     "execution_count": 5,
     "metadata": {},
     "output_type": "execute_result"
    }
   ],
   "source": [
    "volume_melt.head()"
   ]
  },
  {
   "cell_type": "code",
   "execution_count": 6,
   "metadata": {},
   "outputs": [
    {
     "data": {
      "text/html": [
       "<div>\n",
       "<style>\n",
       "    .dataframe thead tr:only-child th {\n",
       "        text-align: right;\n",
       "    }\n",
       "\n",
       "    .dataframe thead th {\n",
       "        text-align: left;\n",
       "    }\n",
       "\n",
       "    .dataframe tbody tr th {\n",
       "        vertical-align: top;\n",
       "    }\n",
       "</style>\n",
       "<table border=\"1\" class=\"dataframe\">\n",
       "  <thead>\n",
       "    <tr style=\"text-align: right;\">\n",
       "      <th></th>\n",
       "      <th>Date</th>\n",
       "      <th>Symbol</th>\n",
       "      <th>Close</th>\n",
       "    </tr>\n",
       "  </thead>\n",
       "  <tbody>\n",
       "    <tr>\n",
       "      <th>0</th>\n",
       "      <td>1970-01-02</td>\n",
       "      <td>ED</td>\n",
       "      <td>0.307997</td>\n",
       "    </tr>\n",
       "    <tr>\n",
       "      <th>1</th>\n",
       "      <td>1970-01-05</td>\n",
       "      <td>ED</td>\n",
       "      <td>0.320831</td>\n",
       "    </tr>\n",
       "    <tr>\n",
       "      <th>2</th>\n",
       "      <td>1970-01-06</td>\n",
       "      <td>ED</td>\n",
       "      <td>0.316553</td>\n",
       "    </tr>\n",
       "    <tr>\n",
       "      <th>3</th>\n",
       "      <td>1970-01-07</td>\n",
       "      <td>ED</td>\n",
       "      <td>0.312275</td>\n",
       "    </tr>\n",
       "    <tr>\n",
       "      <th>4</th>\n",
       "      <td>1970-01-08</td>\n",
       "      <td>ED</td>\n",
       "      <td>0.312275</td>\n",
       "    </tr>\n",
       "  </tbody>\n",
       "</table>\n",
       "</div>"
      ],
      "text/plain": [
       "         Date Symbol     Close\n",
       "0  1970-01-02     ED  0.307997\n",
       "1  1970-01-05     ED  0.320831\n",
       "2  1970-01-06     ED  0.316553\n",
       "3  1970-01-07     ED  0.312275\n",
       "4  1970-01-08     ED  0.312275"
      ]
     },
     "execution_count": 6,
     "metadata": {},
     "output_type": "execute_result"
    }
   ],
   "source": [
    "adjClose_melt.head()"
   ]
  },
  {
   "cell_type": "code",
   "execution_count": 7,
   "metadata": {},
   "outputs": [
    {
     "data": {
      "text/html": [
       "<div>\n",
       "<style>\n",
       "    .dataframe thead tr:only-child th {\n",
       "        text-align: right;\n",
       "    }\n",
       "\n",
       "    .dataframe thead th {\n",
       "        text-align: left;\n",
       "    }\n",
       "\n",
       "    .dataframe tbody tr th {\n",
       "        vertical-align: top;\n",
       "    }\n",
       "</style>\n",
       "<table border=\"1\" class=\"dataframe\">\n",
       "  <thead>\n",
       "    <tr style=\"text-align: right;\">\n",
       "      <th></th>\n",
       "      <th>Date</th>\n",
       "      <th>Symbol</th>\n",
       "      <th>Open</th>\n",
       "    </tr>\n",
       "  </thead>\n",
       "  <tbody>\n",
       "    <tr>\n",
       "      <th>0</th>\n",
       "      <td>1970-01-02</td>\n",
       "      <td>ED</td>\n",
       "      <td>0.292312</td>\n",
       "    </tr>\n",
       "    <tr>\n",
       "      <th>1</th>\n",
       "      <td>1970-01-05</td>\n",
       "      <td>ED</td>\n",
       "      <td>0.310850</td>\n",
       "    </tr>\n",
       "    <tr>\n",
       "      <th>2</th>\n",
       "      <td>1970-01-06</td>\n",
       "      <td>ED</td>\n",
       "      <td>0.320831</td>\n",
       "    </tr>\n",
       "    <tr>\n",
       "      <th>3</th>\n",
       "      <td>1970-01-07</td>\n",
       "      <td>ED</td>\n",
       "      <td>0.315127</td>\n",
       "    </tr>\n",
       "    <tr>\n",
       "      <th>4</th>\n",
       "      <td>1970-01-08</td>\n",
       "      <td>ED</td>\n",
       "      <td>0.312275</td>\n",
       "    </tr>\n",
       "  </tbody>\n",
       "</table>\n",
       "</div>"
      ],
      "text/plain": [
       "         Date Symbol      Open\n",
       "0  1970-01-02     ED  0.292312\n",
       "1  1970-01-05     ED  0.310850\n",
       "2  1970-01-06     ED  0.320831\n",
       "3  1970-01-07     ED  0.315127\n",
       "4  1970-01-08     ED  0.312275"
      ]
     },
     "execution_count": 7,
     "metadata": {},
     "output_type": "execute_result"
    }
   ],
   "source": [
    "adjOpen_melt.head()"
   ]
  },
  {
   "cell_type": "markdown",
   "metadata": {},
   "source": [
    "# outer (union) merge each data set, by (Date,Symbol)"
   ]
  },
  {
   "cell_type": "code",
   "execution_count": 8,
   "metadata": {
    "collapsed": true
   },
   "outputs": [],
   "source": [
    "merge_OpenClose = pd.merge(adjOpen_melt,adjClose_melt,how='outer',left_on=['Date','Symbol'],right_on=['Date','Symbol'])\n",
    "merge_High = pd.merge(merge_OpenClose,adjHigh_melt,how='outer',left_on=['Date','Symbol'],right_on=['Date','Symbol'])\n",
    "merge_Low = pd.merge(merge_High,adjLow_melt,how='outer',left_on=['Date','Symbol'],right_on=['Date','Symbol'])\n",
    "Stock_Data = pd.merge(merge_Low,volume_melt,how='outer',left_on=['Date','Symbol'],right_on=['Date','Symbol'])"
   ]
  },
  {
   "cell_type": "code",
   "execution_count": 9,
   "metadata": {},
   "outputs": [
    {
     "data": {
      "text/html": [
       "<div>\n",
       "<style>\n",
       "    .dataframe thead tr:only-child th {\n",
       "        text-align: right;\n",
       "    }\n",
       "\n",
       "    .dataframe thead th {\n",
       "        text-align: left;\n",
       "    }\n",
       "\n",
       "    .dataframe tbody tr th {\n",
       "        vertical-align: top;\n",
       "    }\n",
       "</style>\n",
       "<table border=\"1\" class=\"dataframe\">\n",
       "  <thead>\n",
       "    <tr style=\"text-align: right;\">\n",
       "      <th></th>\n",
       "      <th>Date</th>\n",
       "      <th>Symbol</th>\n",
       "      <th>Open</th>\n",
       "      <th>Close</th>\n",
       "      <th>High</th>\n",
       "      <th>Low</th>\n",
       "      <th>Volume</th>\n",
       "    </tr>\n",
       "  </thead>\n",
       "  <tbody>\n",
       "    <tr>\n",
       "      <th>0</th>\n",
       "      <td>1970-01-02</td>\n",
       "      <td>ED</td>\n",
       "      <td>0.292312</td>\n",
       "      <td>0.307997</td>\n",
       "      <td>0.307997</td>\n",
       "      <td>0.292312</td>\n",
       "      <td>0.307997</td>\n",
       "    </tr>\n",
       "    <tr>\n",
       "      <th>1</th>\n",
       "      <td>1970-01-05</td>\n",
       "      <td>ED</td>\n",
       "      <td>0.310850</td>\n",
       "      <td>0.320831</td>\n",
       "      <td>0.320831</td>\n",
       "      <td>0.310850</td>\n",
       "      <td>0.320831</td>\n",
       "    </tr>\n",
       "    <tr>\n",
       "      <th>2</th>\n",
       "      <td>1970-01-06</td>\n",
       "      <td>ED</td>\n",
       "      <td>0.320831</td>\n",
       "      <td>0.316553</td>\n",
       "      <td>0.316553</td>\n",
       "      <td>0.320831</td>\n",
       "      <td>0.316553</td>\n",
       "    </tr>\n",
       "    <tr>\n",
       "      <th>3</th>\n",
       "      <td>1970-01-07</td>\n",
       "      <td>ED</td>\n",
       "      <td>0.315127</td>\n",
       "      <td>0.312275</td>\n",
       "      <td>0.312275</td>\n",
       "      <td>0.315127</td>\n",
       "      <td>0.312275</td>\n",
       "    </tr>\n",
       "    <tr>\n",
       "      <th>4</th>\n",
       "      <td>1970-01-08</td>\n",
       "      <td>ED</td>\n",
       "      <td>0.312275</td>\n",
       "      <td>0.312275</td>\n",
       "      <td>0.312275</td>\n",
       "      <td>0.312275</td>\n",
       "      <td>0.312275</td>\n",
       "    </tr>\n",
       "  </tbody>\n",
       "</table>\n",
       "</div>"
      ],
      "text/plain": [
       "         Date Symbol      Open     Close      High       Low    Volume\n",
       "0  1970-01-02     ED  0.292312  0.307997  0.307997  0.292312  0.307997\n",
       "1  1970-01-05     ED  0.310850  0.320831  0.320831  0.310850  0.320831\n",
       "2  1970-01-06     ED  0.320831  0.316553  0.316553  0.320831  0.316553\n",
       "3  1970-01-07     ED  0.315127  0.312275  0.312275  0.315127  0.312275\n",
       "4  1970-01-08     ED  0.312275  0.312275  0.312275  0.312275  0.312275"
      ]
     },
     "execution_count": 9,
     "metadata": {},
     "output_type": "execute_result"
    }
   ],
   "source": [
    "Stock_Data.head()"
   ]
  },
  {
   "cell_type": "code",
   "execution_count": 10,
   "metadata": {},
   "outputs": [
    {
     "data": {
      "text/plain": [
       "(8542720, 7)"
      ]
     },
     "execution_count": 10,
     "metadata": {},
     "output_type": "execute_result"
    }
   ],
   "source": [
    "Stock_Data.shape"
   ]
  },
  {
   "cell_type": "markdown",
   "metadata": {},
   "source": [
    "# pd.to_datetime"
   ]
  },
  {
   "cell_type": "code",
   "execution_count": 11,
   "metadata": {
    "collapsed": true
   },
   "outputs": [],
   "source": [
    "Stock_Data['Date'] = pd.to_datetime(Stock_Data['Date'])"
   ]
  },
  {
   "cell_type": "code",
   "execution_count": 12,
   "metadata": {
    "scrolled": true
   },
   "outputs": [
    {
     "data": {
      "text/plain": [
       "'Friday'"
      ]
     },
     "execution_count": 12,
     "metadata": {},
     "output_type": "execute_result"
    }
   ],
   "source": [
    "Stock_Data['Date'][0].weekday_name"
   ]
  },
  {
   "cell_type": "code",
   "execution_count": 13,
   "metadata": {},
   "outputs": [
    {
     "data": {
      "text/plain": [
       "1"
      ]
     },
     "execution_count": 13,
     "metadata": {},
     "output_type": "execute_result"
    }
   ],
   "source": [
    "Stock_Data['Date'][0].month"
   ]
  },
  {
   "cell_type": "code",
   "execution_count": 14,
   "metadata": {},
   "outputs": [
    {
     "data": {
      "text/plain": [
       "1970"
      ]
     },
     "execution_count": 14,
     "metadata": {},
     "output_type": "execute_result"
    }
   ],
   "source": [
    "Stock_Data['Date'][0].year"
   ]
  },
  {
   "cell_type": "code",
   "execution_count": 15,
   "metadata": {},
   "outputs": [
    {
     "data": {
      "text/plain": [
       "1"
      ]
     },
     "execution_count": 15,
     "metadata": {},
     "output_type": "execute_result"
    }
   ],
   "source": [
    "Stock_Data['Date'][10].quarter"
   ]
  },
  {
   "cell_type": "code",
   "execution_count": 16,
   "metadata": {
    "collapsed": true
   },
   "outputs": [],
   "source": [
    "#  VERY SLOW\n",
    "#Stock_Data['Day'] = Stock_Data.apply(lambda df: df['Date'].day,axis=1)"
   ]
  },
  {
   "cell_type": "markdown",
   "metadata": {},
   "source": [
    "## Add extra Datetime columns"
   ]
  },
  {
   "cell_type": "code",
   "execution_count": 17,
   "metadata": {
    "collapsed": true
   },
   "outputs": [],
   "source": [
    "Stock_Data['Year'] = pd.DatetimeIndex(Stock_Data['Date']).year\n",
    "Stock_Data['Day'] = pd.DatetimeIndex(Stock_Data['Date']).day\n",
    "Stock_Data['Weekday'] = pd.DatetimeIndex(Stock_Data['Date']).weekday_name\n",
    "Stock_Data['Month'] = pd.DatetimeIndex(Stock_Data['Date']).month\n",
    "Stock_Data['Quarter'] = pd.DatetimeIndex(Stock_Data['Date']).quarter"
   ]
  },
  {
   "cell_type": "code",
   "execution_count": 18,
   "metadata": {},
   "outputs": [
    {
     "data": {
      "text/html": [
       "<div>\n",
       "<style>\n",
       "    .dataframe thead tr:only-child th {\n",
       "        text-align: right;\n",
       "    }\n",
       "\n",
       "    .dataframe thead th {\n",
       "        text-align: left;\n",
       "    }\n",
       "\n",
       "    .dataframe tbody tr th {\n",
       "        vertical-align: top;\n",
       "    }\n",
       "</style>\n",
       "<table border=\"1\" class=\"dataframe\">\n",
       "  <thead>\n",
       "    <tr style=\"text-align: right;\">\n",
       "      <th></th>\n",
       "      <th>Date</th>\n",
       "      <th>Symbol</th>\n",
       "      <th>Open</th>\n",
       "      <th>Close</th>\n",
       "      <th>High</th>\n",
       "      <th>Low</th>\n",
       "      <th>Volume</th>\n",
       "      <th>Year</th>\n",
       "      <th>Day</th>\n",
       "      <th>Weekday</th>\n",
       "      <th>Month</th>\n",
       "      <th>Quarter</th>\n",
       "    </tr>\n",
       "  </thead>\n",
       "  <tbody>\n",
       "    <tr>\n",
       "      <th>0</th>\n",
       "      <td>1970-01-02</td>\n",
       "      <td>ED</td>\n",
       "      <td>0.292312</td>\n",
       "      <td>0.307997</td>\n",
       "      <td>0.307997</td>\n",
       "      <td>0.292312</td>\n",
       "      <td>0.307997</td>\n",
       "      <td>1970</td>\n",
       "      <td>2</td>\n",
       "      <td>Friday</td>\n",
       "      <td>1</td>\n",
       "      <td>1</td>\n",
       "    </tr>\n",
       "    <tr>\n",
       "      <th>1</th>\n",
       "      <td>1970-01-05</td>\n",
       "      <td>ED</td>\n",
       "      <td>0.310850</td>\n",
       "      <td>0.320831</td>\n",
       "      <td>0.320831</td>\n",
       "      <td>0.310850</td>\n",
       "      <td>0.320831</td>\n",
       "      <td>1970</td>\n",
       "      <td>5</td>\n",
       "      <td>Monday</td>\n",
       "      <td>1</td>\n",
       "      <td>1</td>\n",
       "    </tr>\n",
       "    <tr>\n",
       "      <th>2</th>\n",
       "      <td>1970-01-06</td>\n",
       "      <td>ED</td>\n",
       "      <td>0.320831</td>\n",
       "      <td>0.316553</td>\n",
       "      <td>0.316553</td>\n",
       "      <td>0.320831</td>\n",
       "      <td>0.316553</td>\n",
       "      <td>1970</td>\n",
       "      <td>6</td>\n",
       "      <td>Tuesday</td>\n",
       "      <td>1</td>\n",
       "      <td>1</td>\n",
       "    </tr>\n",
       "    <tr>\n",
       "      <th>3</th>\n",
       "      <td>1970-01-07</td>\n",
       "      <td>ED</td>\n",
       "      <td>0.315127</td>\n",
       "      <td>0.312275</td>\n",
       "      <td>0.312275</td>\n",
       "      <td>0.315127</td>\n",
       "      <td>0.312275</td>\n",
       "      <td>1970</td>\n",
       "      <td>7</td>\n",
       "      <td>Wednesday</td>\n",
       "      <td>1</td>\n",
       "      <td>1</td>\n",
       "    </tr>\n",
       "    <tr>\n",
       "      <th>4</th>\n",
       "      <td>1970-01-08</td>\n",
       "      <td>ED</td>\n",
       "      <td>0.312275</td>\n",
       "      <td>0.312275</td>\n",
       "      <td>0.312275</td>\n",
       "      <td>0.312275</td>\n",
       "      <td>0.312275</td>\n",
       "      <td>1970</td>\n",
       "      <td>8</td>\n",
       "      <td>Thursday</td>\n",
       "      <td>1</td>\n",
       "      <td>1</td>\n",
       "    </tr>\n",
       "  </tbody>\n",
       "</table>\n",
       "</div>"
      ],
      "text/plain": [
       "        Date Symbol      Open     Close      High       Low    Volume  Year  \\\n",
       "0 1970-01-02     ED  0.292312  0.307997  0.307997  0.292312  0.307997  1970   \n",
       "1 1970-01-05     ED  0.310850  0.320831  0.320831  0.310850  0.320831  1970   \n",
       "2 1970-01-06     ED  0.320831  0.316553  0.316553  0.320831  0.316553  1970   \n",
       "3 1970-01-07     ED  0.315127  0.312275  0.312275  0.315127  0.312275  1970   \n",
       "4 1970-01-08     ED  0.312275  0.312275  0.312275  0.312275  0.312275  1970   \n",
       "\n",
       "   Day    Weekday  Month  Quarter  \n",
       "0    2     Friday      1        1  \n",
       "1    5     Monday      1        1  \n",
       "2    6    Tuesday      1        1  \n",
       "3    7  Wednesday      1        1  \n",
       "4    8   Thursday      1        1  "
      ]
     },
     "execution_count": 18,
     "metadata": {},
     "output_type": "execute_result"
    }
   ],
   "source": [
    "Stock_Data.head()"
   ]
  },
  {
   "cell_type": "markdown",
   "metadata": {},
   "source": [
    "#  List of Stock Symbols"
   ]
  },
  {
   "cell_type": "code",
   "execution_count": 19,
   "metadata": {},
   "outputs": [
    {
     "data": {
      "text/plain": [
       "array(['ED', 'DD', 'CVX', 'FL', 'CAT', 'IP', 'SJW', 'F', 'LLY', 'AVP',\n",
       "       'NFG', 'BF-A', 'MATX', 'BK', 'SNE', 'KR', 'BP', 'C', 'CL', 'APA',\n",
       "       'DDS', 'TSN', 'OII', 'BIF', 'LAWS', 'GWW', 'JCP', 'VNO', 'LPX',\n",
       "       'WABC', 'NWLI', 'GLT', 'LUB', 'NL', 'PGR', 'BF-B', 'ADI', 'GHC',\n",
       "       'GFI', 'SJI', 'SHLM', 'BAC', 'CTS', 'MAT', 'AP', 'WGO', 'MYL',\n",
       "       'TRC', 'GIS', 'TMO', 'VLGEA', 'DUK', 'JPM', 'AGYS', 'L', 'BDX', 'D',\n",
       "       'TGNA', 'IR', 'CAL', 'MSEX', 'NJR', 'ANAT', 'KMT', 'SENEB', 'WMK',\n",
       "       'AEM', 'KMB', 'CHD', 'DHR', 'AVA', 'FUL', 'BBT', 'FHN', 'INTC',\n",
       "       'KSU', 'CTG', 'KYO', 'MUX', 'MOG-A', 'CSX', 'CECE', 'SEIC', 'PHIIK',\n",
       "       'NVO', 'COP', 'IFF', 'SLB', 'HUM', 'OXY', 'VLO', 'HRS', 'SO', 'THC',\n",
       "       'IHC', 'VBF', 'CVBF', 'RDC', 'FMBI', 'TRST', 'ASNA', 'LM', 'PAYX',\n",
       "       'SLM', 'AXE', 'SGMS', 'CB', 'JCI', 'SWK', 'NVR', 'ROST', 'JKHY',\n",
       "       'CBU', 'STKL', 'MSFT', 'HVT-A', 'CY', 'BDN', 'VIVO', 'FISV', 'UNM',\n",
       "       'TWN', 'EQC', 'MMT', 'CMU', 'FUN', 'FBNC', 'TIF', 'AVNW', 'MGF',\n",
       "       'WASH', 'CDNS', 'TEF', 'IEP', 'PII', 'NNY', 'NCA', 'VVC', 'KEY',\n",
       "       'SMP', 'PBT', 'SWN', 'SEE', 'SCX', 'SAN', 'TTF', 'TFX', 'MIN',\n",
       "       'CHFC', 'GNCMA', 'SUN', 'KTF', 'TECH', 'MEN', 'KSM', 'CXH', 'AGN',\n",
       "       'MCR', 'EA', 'ZIXI', 'GIII', 'POT', 'ICON', 'JOE', 'TEX', 'SSP',\n",
       "       'RIO', 'MXE', 'AZO', 'PRGS', 'EZPW', 'NUM', 'ATNI', 'OI', 'QCOM',\n",
       "       'ELY', 'PPR', 'NBTB', 'SCLN', 'FRED', 'KOPN', 'STBA', 'HQL', 'CACC',\n",
       "       'LDF', 'PX', 'JEQ', 'EQS', 'CCU', 'TRIB', 'MTX', 'PDCO', 'MIY',\n",
       "       'QUMU', 'TCO', 'AAON', 'BBOX', 'CHK', 'BKN', 'MS', 'SCVL', 'NMT',\n",
       "       'NPV', 'ALG', 'SYBT', 'TCBK', 'AKR', 'THRM', 'BBSI', 'CPT', 'MCRI',\n",
       "       'EQR', 'BWA', 'UBSH', 'RVSB', 'AF', 'BFR', 'TV', 'EMN', 'ARWR',\n",
       "       'OKSB', 'MED', 'ALB', 'BZH', 'NMRX', 'MPAA', 'USNA', 'CNOB', 'VVUS',\n",
       "       'HMY', 'HIW', 'AKO-A', 'ADTN', 'AMED', 'RS', 'CETV', 'VCO', 'BMO',\n",
       "       'UHAL', 'TGS', 'EME', 'PAAS', 'HA', 'KFRC', 'AVX', 'BREW', 'AGX',\n",
       "       'ERIE', 'POOL', 'BAP', 'WAT', 'PRXL', 'NVAX', 'ITT', 'IPXL', 'FTAI',\n",
       "       'SCCO', 'RCI', 'CSGS', 'REV', 'CENX', 'JAKK', 'ANSS', 'PEGA',\n",
       "       'LAMR', 'ETFC', 'FMS', 'NCI', 'NVS', 'PDS', 'PSO', 'NUS', 'EMITF',\n",
       "       'TESO', 'VSAT', 'SNAK', 'SNHY', 'ESGR', 'ALV', 'FBC', 'VTR', 'AMZN',\n",
       "       'NTL', 'SRT', 'FIX', 'EGHT', 'PSMT', 'PLCE', 'SRI', 'CHRW', 'FORTY',\n",
       "       'CHL', 'CSU', 'SAH', 'GEOS', 'AI', 'NICK', 'PWR', 'SCS', 'WDR',\n",
       "       'UVSP', 'CFFI', 'FII', 'AXTI', 'BDE', 'HCKT', 'GIL', 'CSGP', 'HTBK',\n",
       "       'RBCAA', 'IX', 'VIV', 'PAA', 'BCOR', 'AMRB', 'BAK', 'ETM', 'GBL',\n",
       "       'EPAY', 'EXTR', 'ATLC', 'PGC', 'WTBA', 'KT', 'NAD', 'FFIV', 'JNPR',\n",
       "       'KTP', 'FNLC', 'HSBC', 'ACTA', 'PCTI', 'RHT', 'NTCT', 'MFC', 'RDWR',\n",
       "       'BLK', 'CIR', 'PTNR', 'NSL', 'AKAM', 'TDY', 'BST', 'PKG', 'UTSI',\n",
       "       'EW', 'PTR', 'FBR', 'GSOL', 'ON', 'UBS', 'SONS', 'ISRG', 'CHU',\n",
       "       'MVC', 'ENTG', 'ERJ', 'INFI', 'SPTN', 'ASR', 'GRMN', 'GPN', 'CSFL',\n",
       "       'AMOV', 'OIS', 'IDT', 'COL', 'FIS', 'TAC', 'PFG', 'CCRN', 'LYG',\n",
       "       'AKP', 'MANT', 'JBLU', 'NPO', 'BGFV', 'JPS', 'NGS', 'MMLP', 'CME',\n",
       "       'STX', 'FPT', 'NKX', 'IHG', 'CHY', 'DGICA', 'NTGR', 'TI-A', 'EVT',\n",
       "       'WIA', 'WF', 'LKQ', 'CMS-PB', 'PIY', 'MRLN', 'NXST', 'KTN', 'AHL',\n",
       "       'ETG', 'WIW', 'RNR-PC', 'MFD', 'MCHX', 'GJH', 'ALNY', 'LPL', 'PYT',\n",
       "       'BECN', 'EOI', 'BBW', 'DLR', 'OHAI', 'ORA', 'FMO', 'CE', 'LCM',\n",
       "       'PBH', 'EVG', 'MORN', 'TGP', 'BOE', 'LOR', 'SLMBP', 'LORL', 'BDJ',\n",
       "       'GHDX', 'GLP', 'WSBF', 'EGF', 'AAWW', 'FBIZ', 'GYC', 'VIAB',\n",
       "       'GDV-PA', 'HEES', 'PERI', 'ETE', 'XCO', 'BTA', 'TDG', 'PFK', 'QVCA',\n",
       "       'GS-PD', 'MA', 'MWA', 'SNCR', 'KALU', 'WYN', 'CPG', 'WNS', 'AGD',\n",
       "       'EDU', 'WU', 'GURE', 'IPHS', 'ALLT', 'ETY', 'AFSI', 'GTT', 'BTZ',\n",
       "       'CTAA', 'EIG', 'ARAY', 'PSTB', 'KS', 'CPLP', 'AFC', 'PNNT', 'EDD',\n",
       "       'CAVM', 'IBKR', 'BGY', 'TYPE', 'GOF', 'GJT', 'CXO', 'VRTU', 'CZZ',\n",
       "       'ATHN', 'REN', 'MAIN', 'DFT', 'CVI', 'BCOM', 'AMCN', 'ENSG', 'NFBK',\n",
       "       'ARR', 'XIN', 'WFC-PJ', 'PYS', 'NWE', 'SOL', 'AHC', 'PM', 'BAC-PE',\n",
       "       'DPS', 'SB', 'SNI', 'DL', 'TREE', 'ASCMA', 'EBR', 'CLW', 'AGI',\n",
       "       'EOT', 'CYS', 'MDSO', 'BUD', 'IGI', 'TBNK', 'CPIX', 'SEM', 'ECHO',\n",
       "       'VRSK', 'PAM', 'IRWD', 'TRNO', 'STNG', 'PRI', 'AOSL', 'EXPR', 'JKS',\n",
       "       'HSEB', 'FN', 'QUAD', 'COR', 'AMRS', 'FSD', 'KEYW', 'GPRK', 'GBT',\n",
       "       'PACB', 'GBAB', 'BAH', 'BITA', 'RFP', 'OXLC', 'AFT', 'HCA', 'CSOD',\n",
       "       'FF', 'GNC', 'THR', 'NMFC', 'YNDX', 'SAVE', 'P', 'WAIR', 'GNE',\n",
       "       'VAC', 'DLPH', 'MN', 'KORS', 'BCEI', 'GWRE', 'CCXI', 'SIR', 'ALSN',\n",
       "       'VNTV', 'HTF', 'BWG', 'RM', 'VCRA', 'RXN', 'PBYI', 'BGCA', 'ELJ',\n",
       "       'HTBI', 'FIVE', 'CHUY', 'SWJ', 'LDP', 'BLMN', 'RZA', 'AGIIL',\n",
       "       'QLYS', 'DTQ', 'ANFI', 'WDAY', 'SDLP', 'SIEN', 'MRCC', 'BGH', 'EDI',\n",
       "       'MPLX', 'SXE', 'RH', 'ENJ', 'RESI', 'GHY', 'USAC', 'CVRR', 'XONE',\n",
       "       'VTRB', 'SSNI', 'ENTA', 'PF', 'DSL', 'AMBC', 'BIOA', 'DFP', 'NYMTP',\n",
       "       'COTY', 'MNK', 'BLUE', 'PTCT', 'GOGO', 'AIY', 'TRMR', 'FSFR', 'UCP',\n",
       "       'DOC', 'WHFBL', 'GRAM', 'CTRL', 'ASC', 'TPRE', 'ZBK', 'FMI', 'PINC',\n",
       "       'RNG', 'RMAX', 'ESRT', 'FTD', 'VJET', 'WUBA', 'WIX', 'GMZ', 'VLP',\n",
       "       'HLT', 'AMC', 'SC', 'VER-PF', 'JMPC', 'ATEN', 'TSLX', 'NORD',\n",
       "       'TNET', 'FPL', 'JMLP', 'TWOU', 'HIVE', 'SSWN', 'FSIC', 'WB', 'SPWH',\n",
       "       'SB-PC', 'GLOP', 'PBFX', 'ABRN', 'GLADO', 'CVEO', 'VNOM', 'CCS',\n",
       "       'INFO', 'FNFV', 'TSQ', 'OXLCN', 'FCB', 'GNBC', 'CALA', 'ZAYO',\n",
       "       'SHLX', 'LBRDK', 'SBLKL', 'GAINO', 'STOR', 'NEFF', 'HIE', 'KLXI',\n",
       "       'PRSC', 'URBN', 'JNP', 'RYAAY', 'TICC', 'PRGX', 'AEGN', 'BPFH',\n",
       "       'GOV', 'CSQ', 'HDS', 'NCTY', 'EZT', 'AJX', 'RELY', 'ADRO', 'NYMTO',\n",
       "       'AFSS', 'TDOC', 'BUFF', 'PLNT', 'GBLIZ', 'SRCLP', 'GAME', 'PFGC',\n",
       "       'NVCR', 'SOJA', 'SBBP', 'EXTN', 'VYGR', 'ACG', 'MIME', 'TCRZ',\n",
       "       'MCX', 'EDIT', 'LMHA', 'UA', 'BTU'], dtype=object)"
      ]
     },
     "execution_count": 19,
     "metadata": {},
     "output_type": "execute_result"
    }
   ],
   "source": [
    "Stock_Data['Symbol'].unique()"
   ]
  },
  {
   "cell_type": "code",
   "execution_count": 20,
   "metadata": {},
   "outputs": [
    {
     "data": {
      "text/html": [
       "<div>\n",
       "<style>\n",
       "    .dataframe thead tr:only-child th {\n",
       "        text-align: right;\n",
       "    }\n",
       "\n",
       "    .dataframe thead th {\n",
       "        text-align: left;\n",
       "    }\n",
       "\n",
       "    .dataframe tbody tr th {\n",
       "        vertical-align: top;\n",
       "    }\n",
       "</style>\n",
       "<table border=\"1\" class=\"dataframe\">\n",
       "  <thead>\n",
       "    <tr style=\"text-align: right;\">\n",
       "      <th></th>\n",
       "      <th>Date</th>\n",
       "      <th>Symbol</th>\n",
       "      <th>Open</th>\n",
       "      <th>Close</th>\n",
       "      <th>High</th>\n",
       "      <th>Low</th>\n",
       "      <th>Volume</th>\n",
       "      <th>Year</th>\n",
       "      <th>Day</th>\n",
       "      <th>Weekday</th>\n",
       "      <th>Month</th>\n",
       "      <th>Quarter</th>\n",
       "    </tr>\n",
       "  </thead>\n",
       "  <tbody>\n",
       "    <tr>\n",
       "      <th>902395</th>\n",
       "      <td>2017-09-01</td>\n",
       "      <td>INTC</td>\n",
       "      <td>35.240002</td>\n",
       "      <td>35.090000</td>\n",
       "      <td>35.090000</td>\n",
       "      <td>35.240002</td>\n",
       "      <td>35.090000</td>\n",
       "      <td>2017</td>\n",
       "      <td>1</td>\n",
       "      <td>Friday</td>\n",
       "      <td>9</td>\n",
       "      <td>3</td>\n",
       "    </tr>\n",
       "    <tr>\n",
       "      <th>902396</th>\n",
       "      <td>2017-09-05</td>\n",
       "      <td>INTC</td>\n",
       "      <td>35.020000</td>\n",
       "      <td>35.020000</td>\n",
       "      <td>35.020000</td>\n",
       "      <td>35.020000</td>\n",
       "      <td>35.020000</td>\n",
       "      <td>2017</td>\n",
       "      <td>5</td>\n",
       "      <td>Tuesday</td>\n",
       "      <td>9</td>\n",
       "      <td>3</td>\n",
       "    </tr>\n",
       "    <tr>\n",
       "      <th>902397</th>\n",
       "      <td>2017-09-06</td>\n",
       "      <td>INTC</td>\n",
       "      <td>35.220001</td>\n",
       "      <td>35.759998</td>\n",
       "      <td>35.759998</td>\n",
       "      <td>35.220001</td>\n",
       "      <td>35.759998</td>\n",
       "      <td>2017</td>\n",
       "      <td>6</td>\n",
       "      <td>Wednesday</td>\n",
       "      <td>9</td>\n",
       "      <td>3</td>\n",
       "    </tr>\n",
       "    <tr>\n",
       "      <th>902398</th>\n",
       "      <td>2017-09-07</td>\n",
       "      <td>INTC</td>\n",
       "      <td>35.880001</td>\n",
       "      <td>35.540001</td>\n",
       "      <td>35.540001</td>\n",
       "      <td>35.880001</td>\n",
       "      <td>35.540001</td>\n",
       "      <td>2017</td>\n",
       "      <td>7</td>\n",
       "      <td>Thursday</td>\n",
       "      <td>9</td>\n",
       "      <td>3</td>\n",
       "    </tr>\n",
       "    <tr>\n",
       "      <th>902399</th>\n",
       "      <td>2017-09-08</td>\n",
       "      <td>INTC</td>\n",
       "      <td>35.419998</td>\n",
       "      <td>35.189999</td>\n",
       "      <td>35.189999</td>\n",
       "      <td>35.419998</td>\n",
       "      <td>35.189999</td>\n",
       "      <td>2017</td>\n",
       "      <td>8</td>\n",
       "      <td>Friday</td>\n",
       "      <td>9</td>\n",
       "      <td>3</td>\n",
       "    </tr>\n",
       "  </tbody>\n",
       "</table>\n",
       "</div>"
      ],
      "text/plain": [
       "             Date Symbol       Open      Close       High        Low  \\\n",
       "902395 2017-09-01   INTC  35.240002  35.090000  35.090000  35.240002   \n",
       "902396 2017-09-05   INTC  35.020000  35.020000  35.020000  35.020000   \n",
       "902397 2017-09-06   INTC  35.220001  35.759998  35.759998  35.220001   \n",
       "902398 2017-09-07   INTC  35.880001  35.540001  35.540001  35.880001   \n",
       "902399 2017-09-08   INTC  35.419998  35.189999  35.189999  35.419998   \n",
       "\n",
       "           Volume  Year  Day    Weekday  Month  Quarter  \n",
       "902395  35.090000  2017    1     Friday      9        3  \n",
       "902396  35.020000  2017    5    Tuesday      9        3  \n",
       "902397  35.759998  2017    6  Wednesday      9        3  \n",
       "902398  35.540001  2017    7   Thursday      9        3  \n",
       "902399  35.189999  2017    8     Friday      9        3  "
      ]
     },
     "execution_count": 20,
     "metadata": {},
     "output_type": "execute_result"
    }
   ],
   "source": [
    "Stock_Data[Stock_Data['Symbol']=='INTC'].tail()"
   ]
  },
  {
   "cell_type": "markdown",
   "metadata": {},
   "source": [
    "# Plot Closing Price Stock data for one symbol"
   ]
  },
  {
   "cell_type": "code",
   "execution_count": 21,
   "metadata": {},
   "outputs": [
    {
     "data": {
      "text/plain": [
       "[<matplotlib.lines.Line2D at 0x2a2609808d0>]"
      ]
     },
     "execution_count": 21,
     "metadata": {},
     "output_type": "execute_result"
    },
    {
     "data": {
      "image/png": "[encoded data removed]",
      "text/plain": [
       "<matplotlib.figure.Figure at 0x2a2608726d8>"
      ]
     },
     "metadata": {},
     "output_type": "display_data"
    }
   ],
   "source": [
    "plt.plot(Stock_Data[Stock_Data['Symbol']=='INTC']['Date'],Stock_Data[Stock_Data['Symbol']=='INTC']['Close'])"
   ]
  },
  {
   "cell_type": "code",
   "execution_count": 22,
   "metadata": {},
   "outputs": [
    {
     "data": {
      "text/plain": [
       "126    0.270891\n",
       "127    0.272348\n",
       "128    0.269435\n",
       "129    0.270891\n",
       "130    0.275261\n",
       "Name: Close, dtype: float64"
      ]
     },
     "execution_count": 22,
     "metadata": {},
     "output_type": "execute_result"
    }
   ],
   "source": [
    "Stock_Data[Stock_Data['Quarter']==3]['Close'].head()"
   ]
  },
  {
   "cell_type": "markdown",
   "metadata": {},
   "source": [
    "# Visualizing date/time using box plots"
   ]
  },
  {
   "cell_type": "code",
   "execution_count": 23,
   "metadata": {},
   "outputs": [
    {
     "data": {
      "text/plain": [
       "(-2, 55)"
      ]
     },
     "execution_count": 23,
     "metadata": {},
     "output_type": "execute_result"
    },
    {
     "data": {
      "image/png": "[encoded data removed]",
      "text/plain": [
       "<matplotlib.figure.Figure at 0x2a25ca04b70>"
      ]
     },
     "metadata": {},
     "output_type": "display_data"
    }
   ],
   "source": [
    "plt.boxplot(Stock_Data[Stock_Data['Quarter']==3]['Close'].dropna(),showfliers=False)\n",
    "plt.ylim(-2,55)"
   ]
  },
  {
   "cell_type": "code",
   "execution_count": 24,
   "metadata": {
    "collapsed": true
   },
   "outputs": [],
   "source": [
    "Q1_close = Stock_Data[Stock_Data['Quarter']==1]['Close'].dropna()\n",
    "Q2_close = Stock_Data[Stock_Data['Quarter']==2]['Close'].dropna()\n",
    "Q3_close = Stock_Data[Stock_Data['Quarter']==3]['Close'].dropna()\n",
    "Q4_close = Stock_Data[Stock_Data['Quarter']==4]['Close'].dropna()\n",
    "#Q_series = pd.Series([Q1_close,Q2_close,Q3_close,Q4_close])"
   ]
  },
  {
   "cell_type": "code",
   "execution_count": 25,
   "metadata": {
    "collapsed": true
   },
   "outputs": [],
   "source": [
    "import warnings\n",
    "warnings.filterwarnings('ignore')\n",
    "#warnings.filterwarnings(action='once')"
   ]
  },
  {
   "cell_type": "code",
   "execution_count": 26,
   "metadata": {},
   "outputs": [
    {
     "data": {
      "text/plain": [
       "count    776337.000000\n",
       "mean         26.341519\n",
       "std         103.608213\n",
       "min           0.000419\n",
       "25%           4.928636\n",
       "50%          11.569202\n",
       "75%          23.852758\n",
       "max        5788.069336\n",
       "Name: Close, dtype: float64"
      ]
     },
     "execution_count": 26,
     "metadata": {},
     "output_type": "execute_result"
    }
   ],
   "source": [
    "Q1_close.describe() # (count,mean,std,25%,50%,75%,max) = (0,1,..,6) "
   ]
  },
  {
   "cell_type": "code",
   "execution_count": 27,
   "metadata": {},
   "outputs": [
    {
     "data": {
      "text/plain": [
       "11.569202"
      ]
     },
     "execution_count": 27,
     "metadata": {},
     "output_type": "execute_result"
    }
   ],
   "source": [
    "Q1_close.median()"
   ]
  },
  {
   "cell_type": "code",
   "execution_count": 28,
   "metadata": {},
   "outputs": [
    {
     "data": {
      "text/plain": [
       "array([  7.76337000e+05,   2.63415194e+01,   1.03608213e+02,\n",
       "         4.19000000e-04,   4.92863600e+00,   1.15692020e+01,\n",
       "         2.38527580e+01,   5.78806934e+03])"
      ]
     },
     "execution_count": 28,
     "metadata": {},
     "output_type": "execute_result"
    }
   ],
   "source": [
    "Q1_close.describe().values"
   ]
  },
  {
   "cell_type": "code",
   "execution_count": 29,
   "metadata": {},
   "outputs": [
    {
     "data": {
      "text/html": [
       "<div>\n",
       "<style>\n",
       "    .dataframe thead tr:only-child th {\n",
       "        text-align: right;\n",
       "    }\n",
       "\n",
       "    .dataframe thead th {\n",
       "        text-align: left;\n",
       "    }\n",
       "\n",
       "    .dataframe tbody tr th {\n",
       "        vertical-align: top;\n",
       "    }\n",
       "</style>\n",
       "<table border=\"1\" class=\"dataframe\">\n",
       "  <thead>\n",
       "    <tr style=\"text-align: right;\">\n",
       "      <th></th>\n",
       "      <th>Q1</th>\n",
       "      <th>Q2</th>\n",
       "      <th>Q3</th>\n",
       "      <th>Q4</th>\n",
       "    </tr>\n",
       "  </thead>\n",
       "  <tbody>\n",
       "    <tr>\n",
       "      <th>median</th>\n",
       "      <td>0</td>\n",
       "      <td>0</td>\n",
       "      <td>0</td>\n",
       "      <td>0</td>\n",
       "    </tr>\n",
       "    <tr>\n",
       "      <th>mean</th>\n",
       "      <td>0</td>\n",
       "      <td>0</td>\n",
       "      <td>0</td>\n",
       "      <td>0</td>\n",
       "    </tr>\n",
       "    <tr>\n",
       "      <th>std</th>\n",
       "      <td>0</td>\n",
       "      <td>0</td>\n",
       "      <td>0</td>\n",
       "      <td>0</td>\n",
       "    </tr>\n",
       "    <tr>\n",
       "      <th>min</th>\n",
       "      <td>0</td>\n",
       "      <td>0</td>\n",
       "      <td>0</td>\n",
       "      <td>0</td>\n",
       "    </tr>\n",
       "    <tr>\n",
       "      <th>%25</th>\n",
       "      <td>0</td>\n",
       "      <td>0</td>\n",
       "      <td>0</td>\n",
       "      <td>0</td>\n",
       "    </tr>\n",
       "    <tr>\n",
       "      <th>%50</th>\n",
       "      <td>0</td>\n",
       "      <td>0</td>\n",
       "      <td>0</td>\n",
       "      <td>0</td>\n",
       "    </tr>\n",
       "    <tr>\n",
       "      <th>%75</th>\n",
       "      <td>0</td>\n",
       "      <td>0</td>\n",
       "      <td>0</td>\n",
       "      <td>0</td>\n",
       "    </tr>\n",
       "    <tr>\n",
       "      <th>max</th>\n",
       "      <td>0</td>\n",
       "      <td>0</td>\n",
       "      <td>0</td>\n",
       "      <td>0</td>\n",
       "    </tr>\n",
       "  </tbody>\n",
       "</table>\n",
       "</div>"
      ],
      "text/plain": [
       "        Q1  Q2  Q3  Q4\n",
       "median   0   0   0   0\n",
       "mean     0   0   0   0\n",
       "std      0   0   0   0\n",
       "min      0   0   0   0\n",
       "%25      0   0   0   0\n",
       "%50      0   0   0   0\n",
       "%75      0   0   0   0\n",
       "max      0   0   0   0"
      ]
     },
     "execution_count": 29,
     "metadata": {},
     "output_type": "execute_result"
    }
   ],
   "source": [
    "Q_stats = pd.DataFrame(0,['median','mean','std','min','%25','%50','%75','max'],['Q1','Q2','Q3','Q4'])\n",
    "Q_stats"
   ]
  },
  {
   "cell_type": "code",
   "execution_count": 30,
   "metadata": {},
   "outputs": [],
   "source": [
    "def sumstats (df):\n",
    "    return df.describe().values\n",
    "\n",
    "#Q_stats['Q1']=Q1_close.describe().values\n",
    "Q_stats['Q1'] = sumstats(Q1_close)\n",
    "Q_stats['Q2'] = sumstats(Q2_close)\n",
    "Q_stats['Q3'] = sumstats(Q3_close)\n",
    "Q_stats['Q4'] = sumstats(Q4_close)\n",
    "\n",
    "Q_stats['Q1'][0] = Q1_close.median()\n",
    "Q_stats['Q2'][0] = Q2_close.median()\n",
    "Q_stats['Q3'][0] = Q3_close.median()\n",
    "Q_stats['Q4'][0] = Q4_close.median()"
   ]
  },
  {
   "cell_type": "code",
   "execution_count": 31,
   "metadata": {},
   "outputs": [
    {
     "data": {
      "text/html": [
       "<div>\n",
       "<style>\n",
       "    .dataframe thead tr:only-child th {\n",
       "        text-align: right;\n",
       "    }\n",
       "\n",
       "    .dataframe thead th {\n",
       "        text-align: left;\n",
       "    }\n",
       "\n",
       "    .dataframe tbody tr th {\n",
       "        vertical-align: top;\n",
       "    }\n",
       "</style>\n",
       "<table border=\"1\" class=\"dataframe\">\n",
       "  <thead>\n",
       "    <tr style=\"text-align: right;\">\n",
       "      <th></th>\n",
       "      <th>Q1</th>\n",
       "      <th>Q2</th>\n",
       "      <th>Q3</th>\n",
       "      <th>Q4</th>\n",
       "    </tr>\n",
       "  </thead>\n",
       "  <tbody>\n",
       "    <tr>\n",
       "      <th>median</th>\n",
       "      <td>11.569202</td>\n",
       "      <td>11.907418</td>\n",
       "      <td>11.829721</td>\n",
       "      <td>11.387355</td>\n",
       "    </tr>\n",
       "    <tr>\n",
       "      <th>mean</th>\n",
       "      <td>26.341519</td>\n",
       "      <td>26.773451</td>\n",
       "      <td>26.354822</td>\n",
       "      <td>25.333539</td>\n",
       "    </tr>\n",
       "    <tr>\n",
       "      <th>std</th>\n",
       "      <td>103.608213</td>\n",
       "      <td>105.022043</td>\n",
       "      <td>106.547942</td>\n",
       "      <td>100.543457</td>\n",
       "    </tr>\n",
       "    <tr>\n",
       "      <th>min</th>\n",
       "      <td>0.000419</td>\n",
       "      <td>0.000448</td>\n",
       "      <td>0.000510</td>\n",
       "      <td>0.000468</td>\n",
       "    </tr>\n",
       "    <tr>\n",
       "      <th>%25</th>\n",
       "      <td>4.928636</td>\n",
       "      <td>5.079390</td>\n",
       "      <td>5.066141</td>\n",
       "      <td>4.818582</td>\n",
       "    </tr>\n",
       "    <tr>\n",
       "      <th>%50</th>\n",
       "      <td>11.569202</td>\n",
       "      <td>11.907418</td>\n",
       "      <td>11.829721</td>\n",
       "      <td>11.387355</td>\n",
       "    </tr>\n",
       "    <tr>\n",
       "      <th>%75</th>\n",
       "      <td>23.852758</td>\n",
       "      <td>24.392376</td>\n",
       "      <td>24.150000</td>\n",
       "      <td>23.350000</td>\n",
       "    </tr>\n",
       "    <tr>\n",
       "      <th>max</th>\n",
       "      <td>5788.069336</td>\n",
       "      <td>6845.923828</td>\n",
       "      <td>6902.833496</td>\n",
       "      <td>6298.026855</td>\n",
       "    </tr>\n",
       "  </tbody>\n",
       "</table>\n",
       "</div>"
      ],
      "text/plain": [
       "                 Q1           Q2           Q3           Q4\n",
       "median    11.569202    11.907418    11.829721    11.387355\n",
       "mean      26.341519    26.773451    26.354822    25.333539\n",
       "std      103.608213   105.022043   106.547942   100.543457\n",
       "min        0.000419     0.000448     0.000510     0.000468\n",
       "%25        4.928636     5.079390     5.066141     4.818582\n",
       "%50       11.569202    11.907418    11.829721    11.387355\n",
       "%75       23.852758    24.392376    24.150000    23.350000\n",
       "max     5788.069336  6845.923828  6902.833496  6298.026855"
      ]
     },
     "execution_count": 31,
     "metadata": {},
     "output_type": "execute_result"
    }
   ],
   "source": [
    "Q_stats"
   ]
  },
  {
   "cell_type": "code",
   "execution_count": 32,
   "metadata": {},
   "outputs": [
    {
     "data": {
      "text/plain": [
       "Text(0,0.5,'Close Price')"
      ]
     },
     "execution_count": 32,
     "metadata": {},
     "output_type": "execute_result"
    },
    {
     "data": {
      "image/png": "[encoded data removed]",
      "text/plain": [
       "<matplotlib.figure.Figure at 0x2a20028aeb8>"
      ]
     },
     "metadata": {},
     "output_type": "display_data"
    }
   ],
   "source": [
    "plt.boxplot([Q1_close,Q2_close,Q3_close,Q4_close],showfliers=False)\n",
    "plt.ylim(-2,55)\n",
    "plt.xlabel('Quarter')\n",
    "plt.ylabel('Close Price')"
   ]
  },
  {
   "cell_type": "code",
   "execution_count": 33,
   "metadata": {},
   "outputs": [
    {
     "data": {
      "text/plain": [
       "(0, 55)"
      ]
     },
     "execution_count": 33,
     "metadata": {},
     "output_type": "execute_result"
    },
    {
     "data": {
      "image/png": "[encoded data removed]",
      "text/plain": [
       "<matplotlib.figure.Figure at 0x2a2002a0d30>"
      ]
     },
     "metadata": {},
     "output_type": "display_data"
    }
   ],
   "source": [
    "sns.boxplot(x=Stock_Data['Quarter'],y=Stock_Data['Close'],data=Stock_Data,showfliers=False)\n",
    "plt.ylim(0,55)"
   ]
  },
  {
   "cell_type": "code",
   "execution_count": 34,
   "metadata": {},
   "outputs": [
    {
     "data": {
      "text/plain": [
       "(0, 55)"
      ]
     },
     "execution_count": 34,
     "metadata": {},
     "output_type": "execute_result"
    },
    {
     "data": {
      "image/png": "[encoded data removed]",
      "text/plain": [
       "<matplotlib.figure.Figure at 0x2a20027ccc0>"
      ]
     },
     "metadata": {},
     "output_type": "display_data"
    }
   ],
   "source": [
    "sns.boxplot(x=Stock_Data['Day'],y=Stock_Data['Close'],data=Stock_Data,showfliers=False)\n",
    "plt.ylim(0,55)"
   ]
  },
  {
   "cell_type": "code",
   "execution_count": 35,
   "metadata": {},
   "outputs": [
    {
     "data": {
      "text/plain": [
       "(0, 55)"
      ]
     },
     "execution_count": 35,
     "metadata": {},
     "output_type": "execute_result"
    },
    {
     "data": {
      "image/png": "[encoded data removed]",
      "text/plain": [
       "<matplotlib.figure.Figure at 0x2a20026e4e0>"
      ]
     },
     "metadata": {},
     "output_type": "display_data"
    }
   ],
   "source": [
    "sns.boxplot(x=Stock_Data['Month'],y=Stock_Data['Close'],data=Stock_Data,showfliers=False)\n",
    "plt.ylim(0,55)"
   ]
  },
  {
   "cell_type": "code",
   "execution_count": 36,
   "metadata": {},
   "outputs": [
    {
     "data": {
      "text/plain": [
       "(0, 55)"
      ]
     },
     "execution_count": 36,
     "metadata": {},
     "output_type": "execute_result"
    },
    {
     "data": {
      "image/png": "[encoded data removed]",
      "text/plain": [
       "<matplotlib.figure.Figure at 0x2a2015529b0>"
      ]
     },
     "metadata": {},
     "output_type": "display_data"
    }
   ],
   "source": [
    "sns.boxplot(x=Stock_Data['Weekday'],y=Stock_Data['Close'],data=Stock_Data,showfliers=False)\n",
    "plt.ylim(0,55)"
   ]
  },
  {
   "cell_type": "code",
   "execution_count": null,
   "metadata": {
    "collapsed": true
   },
   "outputs": [],
   "source": []
  },
  {
   "cell_type": "code",
   "execution_count": null,
   "metadata": {
    "collapsed": true
   },
   "outputs": [],
   "source": []
  },
  {
   "cell_type": "code",
   "execution_count": null,
   "metadata": {
    "collapsed": true
   },
   "outputs": [],
   "source": []
  }
 ],
 "metadata": {
  "kernelspec": {
   "display_name": "Python 3",
   "language": "python",
   "name": "python3"
  },
  "language_info": {
   "codemirror_mode": {
    "name": "ipython",
    "version": 3
   },
   "file_extension": ".py",
   "mimetype": "text/x-python",
   "name": "python",
   "nbconvert_exporter": "python",
   "pygments_lexer": "ipython3",
   "version": "3.6.3"
  }
 },
 "nbformat": 4,
 "nbformat_minor": 2
}
